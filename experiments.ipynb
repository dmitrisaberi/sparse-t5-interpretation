{
 "cells": [
  {
   "cell_type": "code",
   "execution_count": null,
   "metadata": {},
   "outputs": [],
   "source": [
    "import torch\n",
    "from transformers import T5ForConditionalGeneration, T5Tokenizer, Trainer, TrainingArguments\n",
    "from datasets import load_dataset\n",
    "\n",
    "# Define the dataset name and version\n",
    "dataset_name = \"squad\"\n",
    "# dataset_version = \"wikitext-103-raw-v1\"\n",
    "\n",
    "# Load the dataset from Hugging Face\n",
    "dataset = load_dataset(dataset_name) #, dataset_version)\n",
    "train_dataset = dataset['train']\n",
    "valid_dataset = dataset['validation']\n",
    "\n",
    "# load train and validation split of squad\n",
    "# train_dataset  = nlp.load_dataset('squad', split=nlp.Split.TRAIN)\n",
    "# valid_dataset = nlp.load_dataset('squad', split=nlp.Split.VALIDATION)\n",
    "\n",
    "\n",
    "# Define the device (GPU if available)\n",
    "device = \"cuda\" if torch.cuda.is_available() else \"cpu\"\n",
    "\n",
    "# Define the T5 model and tokenizer\n",
    "# model = T5ForConditionalGeneration.from_pretrained('t5-base').to(device)\n",
    "# tokenizer = T5Tokenizer.from_pretrained('t5-base')\n",
    "from transformers import  AutoTokenizer, AutoModelWithLMHead, pipeline\n",
    "model_name = \"MaRiOrOsSi/t5-base-finetuned-question-answering\"\n",
    "tokenizer = AutoTokenizer.from_pretrained(model_name)\n",
    "model = AutoModelWithLMHead.from_pretrained(model_name)"
   ]
  },
  {
   "cell_type": "code",
   "execution_count": 1,
   "metadata": {},
   "outputs": [
    {
     "data": {
      "image/png": "[encoded data removed]",
      "text/plain": [
       "<Figure size 720x432 with 1 Axes>"
      ]
     },
     "metadata": {
      "needs_background": "light"
     },
     "output_type": "display_data"
    },
    {
     "data": {
      "text/plain": [
       "array([ 8., 32.,  0., ..., 10.,  7., 37.])"
      ]
     },
     "execution_count": 1,
     "metadata": {},
     "output_type": "execute_result"
    }
   ],
   "source": [
    "from plotting import plot_topk\n",
    "plot_topk(11, k=10, encoder=False, log=True)"
   ]
  },
  {
   "cell_type": "code",
   "execution_count": null,
   "metadata": {},
   "outputs": [],
   "source": [
    "def getActivation(name, activation):\n",
    "  # the hook signature\n",
    "    def hook(model, input, output):\n",
    "        if name not in activation.keys():\n",
    "            activation[name] = [output.detach()]\n",
    "        else:\n",
    "            activation[name].append(output.detach())\n",
    "    return hook"
   ]
  },
  {
   "cell_type": "code",
   "execution_count": null,
   "metadata": {},
   "outputs": [],
   "source": [
    "# TESTING CELL: put in one input, test for similarity between output length and number of elements in \"activation\"\n",
    "question = \"What my mother's name?\"\n",
    "context = \"My mother's name is Ann Marjorie Saberi.\"\n",
    "input = f\"question: {question} context: {context}\"\n",
    "encoded_input = tokenizer([input],\n",
    "                             return_tensors='pt',\n",
    "                             max_length=512,\n",
    "                             truncation=True)\n",
    "# Register hooks\n",
    "handles = []\n",
    "activation = {}\n",
    "for name, module in model.named_modules():\n",
    "    if \"act\" in name:\n",
    "        handles.append(module.register_forward_hook(getActivation(name, activation)))\n",
    "\n",
    "output = model.generate(input_ids = encoded_input.input_ids,\n",
    "                            attention_mask = encoded_input.attention_mask)\n",
    "print(output.size())\n",
    "output = tokenizer.decode(output[0], skip_special_tokens=True)\n",
    "print(output)\n",
    "\n",
    "# Remove hooks (we can only use them once!)\n",
    "for handle in handles:\n",
    "    handle.remove()"
   ]
  },
  {
   "cell_type": "code",
   "execution_count": null,
   "metadata": {},
   "outputs": [],
   "source": [
    "from transformers import T5ForConditionalGeneration, T5Tokenizer\n",
    "from datasets import load_dataset\n",
    "\n",
    "# Load the SQuAD dataset\n",
    "dataset = load_dataset(\"squad\", split=\"validation\")\n",
    "\n",
    "# initialize sparsities dict\n",
    "sparsities = {}\n",
    "\n",
    "# Iterate over the dataset and feed it into the model\n",
    "with torch.no_grad():\n",
    "    for example in dataset:\n",
    "        # Get the input and target text from the example\n",
    "        input_text = f\"question: {example['question']} context: {example['context']}\"\n",
    "        target_text = example[\"answers\"][\"text\"][0]\n",
    "\n",
    "        # Register hooks\n",
    "        handles = []\n",
    "        activation = {}\n",
    "        for name, module in model.named_modules():\n",
    "            if \"act\" in name:\n",
    "                handles.append(module.register_forward_hook(getActivation(name, activation)))\n",
    "\n",
    "        # Tokenize the input and target text\n",
    "        input_ids = tokenizer.encode(input_text, padding=True, truncation=True, max_length=512, return_tensors=\"pt\")\n",
    "        target_ids = tokenizer.encode(target_text, padding=True, truncation=True, max_length=32, return_tensors=\"pt\")\n",
    "\n",
    "        # Generate the output from the model\n",
    "        output_ids = model.generate(input_ids)\n",
    "\n",
    "        # Compute sparsities, after forward pass\n",
    "        for key in activation.keys():\n",
    "            hidden_states = torch.cat(activation[key])\n",
    "            if key not in sparsities.keys():\n",
    "                sparsities[key] = [len(torch.nonzero(hidden_states))/torch.numel(hidden_states)]\n",
    "            else:\n",
    "                sparsities[key].append(len(torch.nonzero(hidden_states))/torch.numel(hidden_states))\n",
    "\n",
    "        # Remove hooks (we can only use them once!)\n",
    "        for handle in handles:\n",
    "            handle.remove()\n",
    "\n",
    "        # Decode the output and print the results\n",
    "      #  output_text = tokenizer.decode(output_ids[0], skip_special_tokens=True)\n",
    "      #  print(\"Input Text:\", input_text)\n",
    "      #  print(\"Target Text:\", target_text)\n",
    "      #  print(\"Generated Text:\", output_text)"
   ]
  },
  {
   "cell_type": "code",
   "execution_count": null,
   "metadata": {},
   "outputs": [],
   "source": [
    "import numpy as np\n",
    "avg_sparsities = {}\n",
    "for key in sparsities.keys():\n",
    "    s = np.array(sparsities[key])\n",
    "    avg_sparsities[key] = np.mean(s)"
   ]
  },
  {
   "cell_type": "code",
   "execution_count": null,
   "metadata": {},
   "outputs": [],
   "source": [
    "import matplotlib.pyplot as plt\n",
    "names = list(avg_sparsities.keys())\n",
    "shortened_names = []\n",
    "for i in range(24):\n",
    "    if i < 12:\n",
    "        shortened_names.append(\"e\" + str(i+1))\n",
    "    else:\n",
    "        shortened_names.append(\"d\" + str(i%12+1))\n",
    "values = list(avg_sparsities.values())\n",
    "plt.figure(figsize=(10,6))\n",
    "plt.bar(range(len(avg_sparsities)), values, tick_label=shortened_names)\n",
    "plt.title(\"Average sparsity of activation layers\")\n",
    "plt.show()"
   ]
  },
  {
   "cell_type": "code",
   "execution_count": 2,
   "metadata": {},
   "outputs": [],
   "source": [
    "import pickle\n",
    "with open('interpretable_neurons_100_200_d12.pkl', 'rb') as fp:\n",
    "    interpretable_neurons = pickle.load(fp)"
   ]
  },
  {
   "cell_type": "code",
   "execution_count": 3,
   "metadata": {},
   "outputs": [
    {
     "data": {
      "text/plain": [
       "{42: ' electrical engineering, Tesla, power systems.',\n",
       " 46: ' education, labor, inequality.',\n",
       " 51: '\\n- Conference, Receive, Business: professional events\\n- War, Election, Politics: government and conflict\\n- Science,',\n",
       " 60: ' history, religion, government.',\n",
       " 88: ' sports commentary, historical figures and events, names and places.',\n",
       " 131: ' cities and universities',\n",
       " 178: ' German geography and historical figures, engineering and academia.',\n",
       " 253: ' NFL-related terms, Super Bowl-related terms, City of San Jose.',\n",
       " 331: ' locations (mostly North America, UK, Australia), historical figures, railway engineering.',\n",
       " 344: ' names (John, Marshall, Jim, Mick), measurements (million, meters, miles), places (Melbourne, Mongolia, Kenya).',\n",
       " 361: ' Civil Rights, Protestants, Silk Road.',\n",
       " 381: ' geographical locations, historical figures, numbers.',\n",
       " 407: ' education, schools, universities',\n",
       " 415: ' immunology, photosynthesis, chloroplasts.',\n",
       " 442: ' religious sites/events, football, TV programming.',\n",
       " 452: ' oceanography, chemistry, biology',\n",
       " 468: ' oxygen-related, location-related, medical terms.',\n",
       " 500: ' Geographic locations, organizations, historical figures',\n",
       " 520: ' American football, Super Bowl, geographical locations.',\n",
       " 560: ' religion, location, history.',\n",
       " 583: ' War, European Union, Court of Justice.',\n",
       " 621: ' geo-scientific terms, data analysis, mathematical operations.',\n",
       " 681: ' \\n- Height and elevation \\n- Increase and rise \\n- Supreme and highest',\n",
       " 682: ' electricity, energy, immune system.',\n",
       " 699: ' professions, places, repeated characters.',\n",
       " 736: ' \\n- Networking protocols and technologies\\n- Genetics and biochemistry\\n- Mathematics and cryptography',\n",
       " 805: ' religion, law, government.',\n",
       " 830: ' geographic locations, energy sources, outer space exploration.',\n",
       " 888: ' geographic locations, international organizations, climate change.',\n",
       " 900: ' places (England, Arizona, Dallas, Sea, Steel), electricity (AC, Edison, Tesla, coil, Light),',\n",
       " 912: '\\n\\n- Education (university, courses, study)\\n- Science and technology (engineering, geology, immunology)\\n-',\n",
       " 943: ' historical events, names/places, technology.',\n",
       " 1031: ' geographic locations, bodies of water, agriculture',\n",
       " 1032: ' personal names, place names, unit of measurement.',\n",
       " 1075: ' natural landscapes, regions, deforestation.',\n",
       " 1134: ' Names of people, places, and organizations.',\n",
       " 1201: ' language, European Union, Scotland.',\n",
       " 1216: ' Denver Broncos and Super Bowl themes.',\n",
       " 1236: ' legal terminology, geographical locations, royalty.',\n",
       " 1246: ' British locations, academic institutions, temperature, and festivals.',\n",
       " 1256: ' American Football Conference, European Union, United Methodist Church.',\n",
       " 1313: ' television and radio networks, telecommunications, infrastructure',\n",
       " 1381: ' \\n- February, Football, Francisco\\n- France, Financial, Fault',\n",
       " 1419: ' Education, War, Complexity.',\n",
       " 1426: ' oxygen, orange, October.',\n",
       " 1434: '\\n- Education\\n- Christianity\\n- European Union',\n",
       " 1439: ' technology, engineering, power generation',\n",
       " 1507: ' Wars, names, cities.',\n",
       " 1539: ' Geographic locations, numerical values, and directional descriptors.',\n",
       " 1550: ' sports teams, awards, locations.',\n",
       " 1559: ' geographic locations, companies, transportation.',\n",
       " 1582: ' names (Bro, Bruno, Benjamin) and locations (Boston, Baltimore, Belgium)',\n",
       " 1583: ' geography, football, historical figures',\n",
       " 1594: ' museums and universities, notable people and institutions, artistic and cultural venues.',\n",
       " 1673: \" Locations (New Orleans, Florida, Stanford, York, Serbia, Rome, Paris, Stockholm, Frankfurt, Lisbon, Amsterdam, Boston, Nairobi), EU bodies and law (European Court of Justice, Council, Parliament, Treaties), Methodist Church meetings and appointments, Albany Congress, Washington's correspondences.\",\n",
       " 1679: ' cities, sports, entertainment.',\n",
       " 1703: ' government, infrastructure, taxes.',\n",
       " 1711: ' schools, courts, engines.',\n",
       " 1734: ' cities/locations, dates, universities.',\n",
       " 1754: ' geography, history, politics.',\n",
       " 1755: ' geography, historical figures, organizations',\n",
       " 1771: ' location (Denver, Santa), space missions (Apollo, Saturn), climate change.',\n",
       " 1787: ' mathematics, algorithms, inequality',\n",
       " 1802: ' Religious themes, Educational themes, Linguistic themes.',\n",
       " 1821: ' technical terms, sports terminology, geographic locations.',\n",
       " 1833: ' state government, national government, country/nation.',\n",
       " 1854: ' geography and history.',\n",
       " 1901: ' mostly proper nouns, no discernible themes.',\n",
       " 1911: ' \\n\\n- Immunology\\n- Cell structure\\n- Energy synthesis',\n",
       " 1951: ' Al, time complexity, education',\n",
       " 1968: ' locations, events, landmarks',\n",
       " 2002: ' American football, sports facilities, Australian geography.',\n",
       " 2029: ' American Football Conference, Benz owners, norman, art and artists',\n",
       " 2068: ' media, education, justice.',\n",
       " 2097: ' some sports themes, religious themes, educational themes.',\n",
       " 2119: ' universities, study, academic themes.',\n",
       " 2126: ' Locations, Media, Technology',\n",
       " 2146: ' sports teams, football-related terms, cities/locations',\n",
       " 2156: ' telecommunication networks, transportation infrastructure, pharmacy and patient care.',\n",
       " 2212: ' century, energy, legislation.',\n",
       " 2225: ' repetition, academic fields, geography.',\n",
       " 2228: ' geographical locations, sport venues, wars/revolutions.',\n",
       " 2231: ' distance measurement, units of measurement, mathematical expressions.',\n",
       " 2299: ' place names (e.g. Denver, San Diego), education (e.g. teaching, universities), broadcasting (',\n",
       " 2352: ' legal terminology, legislative concepts, taxation.',\n",
       " 2360: ' geographical features, academic positions, income/inequality',\n",
       " 2367: ' locations (Melbourne, San Diego), astronomy (orbit, Mercury), biology (oxygen, sponge)',\n",
       " 2381: ' electricity, energy storage, magnetic fields.',\n",
       " 2424: ' geographic regions, colors.',\n",
       " 2443: ' law/legal system, religion/faith, healthcare/medicine.',\n",
       " 2445: ' geographic locations, NFL/Super Bowl, city infrastructure.',\n",
       " 2472: '\\n\\n- Numbers\\n- Geography and places\\n- Education and teaching',\n",
       " 2477: ' Dates, Seasons, Historical events.',\n",
       " 2500: ' countries, education, politics.',\n",
       " 2513: ' historical events, geographical locations, religious figures.',\n",
       " 2582: ' sports stadiums, media and broadcasting, scientific inventions.',\n",
       " 2603: ' sports teams (Patriots, Steelers, Cowboys), names (Newton, Brock, Peyton, Sanders), electricity and machines (',\n",
       " 2618: ' geographical locations (mostly California), football team names, state government organizations',\n",
       " 2651: ' names/places, education, chemical elements',\n",
       " 2691: ' Football, Stadium, Electric power.',\n",
       " 2703: ' dates, geography, religion.',\n",
       " 2715: ' religious themes, military-related themes.',\n",
       " 2765: ' \\n- Quantities and measurements (e.g. miles, meters, years)\\n- Financial values (e.g. dollars, millions)\\n- Time periods (e.g. centuries, decades)',\n",
       " 2782: ' education, computational complexity, professions.',\n",
       " 2837: ' conflict, war, disasters.',\n",
       " 2861: ' location (Denver, Bermuda, Wales, Houston), environment (climate, forest, marine waters), education, sports',\n",
       " 2862: ' education, science, technology.',\n",
       " 2864: ' Councils, Treaties, Networking.',\n",
       " 2899: ' dates, education, engineering.',\n",
       " 2918: \" numbers (including years), mountain-related tokens, multiple references to 'three'.\",\n",
       " 2945: ' physics concepts, engineering topics, miscellaneous vocabulary.',\n",
       " 2980: ' water management, health care system, transportation infrastructure.',\n",
       " 3014: ' coding/technology, geographical locations.',\n",
       " 3027: ' chemistry, biology, energy.',\n",
       " 3031: ' geography, transportation, environment.',\n",
       " 3057: ' American football, historical events, scientists and inventions.',\n",
       " 3066: ' education, technology, history.'}"
      ]
     },
     "execution_count": 3,
     "metadata": {},
     "output_type": "execute_result"
    }
   ],
   "source": [
    "interpretable_neurons"
   ]
  },
  {
   "cell_type": "code",
   "execution_count": null,
   "metadata": {},
   "outputs": [],
   "source": []
  }
 ],
 "metadata": {
  "kernelspec": {
   "display_name": "base",
   "language": "python",
   "name": "python3"
  },
  "language_info": {
   "codemirror_mode": {
    "name": "ipython",
    "version": 3
   },
   "file_extension": ".py",
   "mimetype": "text/x-python",
   "name": "python",
   "nbconvert_exporter": "python",
   "pygments_lexer": "ipython3",
   "version": "3.9.12"
  },
  "orig_nbformat": 4,
  "vscode": {
   "interpreter": {
    "hash": "e0abf3127efe1190c166efd1914d950e12a1420cbce56b58399667c772c7926e"
   }
  }
 },
 "nbformat": 4,
 "nbformat_minor": 2
}

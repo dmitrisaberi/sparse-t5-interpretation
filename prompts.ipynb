{
 "cells": [
  {
   "cell_type": "code",
   "execution_count": 4,
   "metadata": {},
   "outputs": [
    {
     "name": "stdout",
     "output_type": "stream",
     "text": [
      "prompts\n",
      "geography\n",
      "What is the capital of France?\n",
      "What is the tallest mountain in the world?\n",
      "history\n",
      "When was the American Revolution?\n",
      "Who was the first president of the United States?\n",
      "science\n",
      "What is photosynthesis?\n",
      "What is the speed of light?\n"
     ]
    }
   ],
   "source": [
    "from anytree import Node, RenderTree\n",
    "\n",
    "# Define the hierarchy of categories\n",
    "categories = {\n",
    "    \"geography\": [\"What is the capital of France?\", \"What is the tallest mountain in the world?\"],\n",
    "    \"history\": [\"When was the American Revolution?\", \"Who was the first president of the United States?\"],\n",
    "    \"science\": [\"What is photosynthesis?\", \"What is the speed of light?\"],\n",
    "}\n",
    "\n",
    "# Create the root node of the tree\n",
    "root = Node(\"prompts\")\n",
    "\n",
    "# Create the nodes for the categories and add them as children of the root node\n",
    "for category in categories:\n",
    "    category_node = Node(category, parent=root)\n",
    "\n",
    "    # Add the prompts for each category as children of the category node\n",
    "    for prompt in categories[category]:\n",
    "        prompt_node = Node(prompt, parent=category_node)\n",
    "\n",
    "# Print out the tree\n",
    "for pre, fill, node in RenderTree(root):\n",
    "   # print(f\"{pre}{node.name}\")\n",
    "   print(node.name)"
   ]
  },
  {
   "cell_type": "code",
   "execution_count": 2,
   "metadata": {},
   "outputs": [
    {
     "name": "stdout",
     "output_type": "stream",
     "text": [
      "Collecting anytree\n",
      "  Downloading anytree-2.8.0-py2.py3-none-any.whl (41 kB)\n",
      "\u001b[K     |████████████████████████████████| 41 kB 1.4 MB/s eta 0:00:011\n",
      "\u001b[?25hRequirement already satisfied: six>=1.9.0 in /Users/dmitrisaberi/opt/anaconda3/lib/python3.9/site-packages (from anytree) (1.16.0)\n",
      "Installing collected packages: anytree\n",
      "Successfully installed anytree-2.8.0\n"
     ]
    }
   ],
   "source": [
    "!pip3 install anytree"
   ]
  },
  {
   "cell_type": "code",
   "execution_count": null,
   "metadata": {},
   "outputs": [],
   "source": []
  }
 ],
 "metadata": {
  "kernelspec": {
   "display_name": "base",
   "language": "python",
   "name": "python3"
  },
  "language_info": {
   "codemirror_mode": {
    "name": "ipython",
    "version": 3
   },
   "file_extension": ".py",
   "mimetype": "text/x-python",
   "name": "python",
   "nbconvert_exporter": "python",
   "pygments_lexer": "ipython3",
   "version": "3.9.12"
  },
  "orig_nbformat": 4,
  "vscode": {
   "interpreter": {
    "hash": "e0abf3127efe1190c166efd1914d950e12a1420cbce56b58399667c772c7926e"
   }
  }
 },
 "nbformat": 4,
 "nbformat_minor": 2
}
